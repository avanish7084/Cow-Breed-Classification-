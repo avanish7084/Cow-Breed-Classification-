{
  "cells": [
    {
      "cell_type": "markdown",
      "metadata": {
        "id": "view-in-github",
        "colab_type": "text"
      },
      "source": [
        "<a href=\"https://colab.research.google.com/github/avanish7084/Cow-Breed-Classification-/blob/main/Run_Model.ipynb\" target=\"_parent\"><img src=\"https://colab.research.google.com/assets/colab-badge.svg\" alt=\"Open In Colab\"/></a>"
      ]
    },
    {
      "cell_type": "code",
      "execution_count": 1,
      "metadata": {
        "colab": {
          "base_uri": "https://localhost:8080/"
        },
        "id": "yOtdRr2X0oqf",
        "outputId": "5957893c-f0dc-4ec7-cb00-3e039e9ecad2"
      },
      "outputs": [
        {
          "output_type": "stream",
          "name": "stdout",
          "text": [
            "Mounted at /content/grive\n"
          ]
        }
      ],
      "source": [
        "from google.colab import drive\n",
        "drive.mount('/content/grive') "
      ]
    },
    {
      "cell_type": "code",
      "execution_count": 2,
      "metadata": {
        "colab": {
          "base_uri": "https://localhost:8080/"
        },
        "id": "lYsoDVkz0-sh",
        "outputId": "234211e7-dc4a-453b-a9be-11746fa20deb"
      },
      "outputs": [
        {
          "output_type": "stream",
          "name": "stdout",
          "text": [
            "['Rathi', 'Gir', 'Sahiwal', 'Red Sindhi']\n"
          ]
        }
      ],
      "source": [
        "import gc\n",
        "gc.collect()\n",
        "\n",
        "import numpy as np\n",
        "import pandas as pd\n",
        "import os\n",
        "\n",
        "fpath=\"/content/grive/MyDrive/Cow breed project/CowsFinal-20221101T103947Z-001/CowsFinal\"\n",
        "print(os.listdir(fpath))\n",
        "cow_classes = os.listdir(fpath)"
      ]
    },
    {
      "cell_type": "code",
      "execution_count": 3,
      "metadata": {
        "colab": {
          "base_uri": "https://localhost:8080/"
        },
        "id": "kjmFHYKr1OHa",
        "outputId": "1075db93-8cdc-45dd-a317-bc5e65eab88c"
      },
      "outputs": [
        {
          "output_type": "stream",
          "name": "stdout",
          "text": [
            "['Rathi', 'Gir', 'Sahiwal', 'Red Sindhi']\n"
          ]
        }
      ],
      "source": [
        "breeds=[breed for breed in cow_classes]\n",
        "print(breeds)"
      ]
    },
    {
      "cell_type": "code",
      "execution_count": 4,
      "metadata": {
        "colab": {
          "base_uri": "https://localhost:8080/"
        },
        "id": "fK29JcNH1cnw",
        "outputId": "3fdbedff-4d1f-462d-d4c0-e5d787d1356c"
      },
      "outputs": [
        {
          "output_type": "stream",
          "name": "stdout",
          "text": [
            "[['/content/grive/MyDrive/Cow breed project/CowsFinal-20221101T103947Z-001/CowsFinal/Rathi/_0_6411.jpg'], ['/content/grive/MyDrive/Cow breed project/CowsFinal-20221101T103947Z-001/CowsFinal/Rathi/_0_5666.jpg'], ['/content/grive/MyDrive/Cow breed project/CowsFinal-20221101T103947Z-001/CowsFinal/Rathi/_0_790.jpg'], ['/content/grive/MyDrive/Cow breed project/CowsFinal-20221101T103947Z-001/CowsFinal/Rathi/_0_1314.jpg'], ['/content/grive/MyDrive/Cow breed project/CowsFinal-20221101T103947Z-001/CowsFinal/Rathi/_0_5910.jpg'], ['/content/grive/MyDrive/Cow breed project/CowsFinal-20221101T103947Z-001/CowsFinal/Rathi/_0_4351.jpg'], ['/content/grive/MyDrive/Cow breed project/CowsFinal-20221101T103947Z-001/CowsFinal/Rathi/_0_3771.jpg'], ['/content/grive/MyDrive/Cow breed project/CowsFinal-20221101T103947Z-001/CowsFinal/Rathi/_0_469.jpg'], ['/content/grive/MyDrive/Cow breed project/CowsFinal-20221101T103947Z-001/CowsFinal/Rathi/_0_6963.jpg'], ['/content/grive/MyDrive/Cow breed project/CowsFinal-20221101T103947Z-001/CowsFinal/Rathi/_0_4431.jpg']] \n",
            "\n",
            "['Rathi', 'Rathi', 'Rathi', 'Rathi', 'Rathi', 'Rathi', 'Rathi', 'Rathi', 'Rathi', 'Rathi'] \n",
            "\n",
            "['/content/grive/MyDrive/Cow breed project/CowsFinal-20221101T103947Z-001/CowsFinal/Rathi/_0_6411.jpg', '/content/grive/MyDrive/Cow breed project/CowsFinal-20221101T103947Z-001/CowsFinal/Rathi/_0_5666.jpg', '/content/grive/MyDrive/Cow breed project/CowsFinal-20221101T103947Z-001/CowsFinal/Rathi/_0_790.jpg', '/content/grive/MyDrive/Cow breed project/CowsFinal-20221101T103947Z-001/CowsFinal/Rathi/_0_1314.jpg', '/content/grive/MyDrive/Cow breed project/CowsFinal-20221101T103947Z-001/CowsFinal/Rathi/_0_5910.jpg', '/content/grive/MyDrive/Cow breed project/CowsFinal-20221101T103947Z-001/CowsFinal/Rathi/_0_4351.jpg', '/content/grive/MyDrive/Cow breed project/CowsFinal-20221101T103947Z-001/CowsFinal/Rathi/_0_3771.jpg', '/content/grive/MyDrive/Cow breed project/CowsFinal-20221101T103947Z-001/CowsFinal/Rathi/_0_469.jpg', '/content/grive/MyDrive/Cow breed project/CowsFinal-20221101T103947Z-001/CowsFinal/Rathi/_0_6963.jpg', '/content/grive/MyDrive/Cow breed project/CowsFinal-20221101T103947Z-001/CowsFinal/Rathi/_0_4431.jpg'] \n",
            "\n"
          ]
        },
        {
          "output_type": "execute_result",
          "data": {
            "text/plain": [
              "3220"
            ]
          },
          "metadata": {},
          "execution_count": 4
        }
      ],
      "source": [
        "from itertools import chain\n",
        "X=[]\n",
        "y=[]\n",
        "fullpaths=['/content/grive/MyDrive/Cow breed project/CowsFinal-20221101T103947Z-001/CowsFinal/{}'.format(cow_class) for cow_class in cow_classes]\n",
        "for counter,fullpath in enumerate(fullpaths):\n",
        "    for imgname in os.listdir(fullpath):\n",
        "        X.append([fullpath + '/' + imgname])\n",
        "        y.append(breeds[counter])\n",
        "\n",
        "print(X[:10],\"\\n\")\n",
        "print(y[:10],\"\\n\")\n",
        "\n",
        "X=list(chain.from_iterable(X))\n",
        "print(X[:10],\"\\n\")\n",
        "len(X)"
      ]
    },
    {
      "cell_type": "code",
      "execution_count": 5,
      "metadata": {
        "colab": {
          "base_uri": "https://localhost:8080/"
        },
        "id": "a0u974Rw1hrS",
        "outputId": "d2b082a6-18fc-4f05-b74e-637b031253b8"
      },
      "outputs": [
        {
          "output_type": "stream",
          "name": "stdout",
          "text": [
            "[('/content/grive/MyDrive/Cow breed project/CowsFinal-20221101T103947Z-001/CowsFinal/Rathi/_0_6411.jpg', 'Rathi'), ('/content/grive/MyDrive/Cow breed project/CowsFinal-20221101T103947Z-001/CowsFinal/Rathi/_0_5666.jpg', 'Rathi'), ('/content/grive/MyDrive/Cow breed project/CowsFinal-20221101T103947Z-001/CowsFinal/Rathi/_0_790.jpg', 'Rathi'), ('/content/grive/MyDrive/Cow breed project/CowsFinal-20221101T103947Z-001/CowsFinal/Rathi/_0_1314.jpg', 'Rathi'), ('/content/grive/MyDrive/Cow breed project/CowsFinal-20221101T103947Z-001/CowsFinal/Rathi/_0_5910.jpg', 'Rathi'), ('/content/grive/MyDrive/Cow breed project/CowsFinal-20221101T103947Z-001/CowsFinal/Rathi/_0_4351.jpg', 'Rathi'), ('/content/grive/MyDrive/Cow breed project/CowsFinal-20221101T103947Z-001/CowsFinal/Rathi/_0_3771.jpg', 'Rathi'), ('/content/grive/MyDrive/Cow breed project/CowsFinal-20221101T103947Z-001/CowsFinal/Rathi/_0_469.jpg', 'Rathi'), ('/content/grive/MyDrive/Cow breed project/CowsFinal-20221101T103947Z-001/CowsFinal/Rathi/_0_6963.jpg', 'Rathi'), ('/content/grive/MyDrive/Cow breed project/CowsFinal-20221101T103947Z-001/CowsFinal/Rathi/_0_4431.jpg', 'Rathi')] \n",
            "\n",
            "[('/content/grive/MyDrive/Cow breed project/CowsFinal-20221101T103947Z-001/CowsFinal/Sahiwal/_0_6193.jpg', 'Sahiwal'), ('/content/grive/MyDrive/Cow breed project/CowsFinal-20221101T103947Z-001/CowsFinal/Rathi/_0_1098.jpg', 'Rathi'), ('/content/grive/MyDrive/Cow breed project/CowsFinal-20221101T103947Z-001/CowsFinal/Rathi/_0_1595.jpg', 'Rathi'), ('/content/grive/MyDrive/Cow breed project/CowsFinal-20221101T103947Z-001/CowsFinal/Red Sindhi/_0_9654.jpg', 'Red Sindhi'), ('/content/grive/MyDrive/Cow breed project/CowsFinal-20221101T103947Z-001/CowsFinal/Red Sindhi/_0_4107.jpg', 'Red Sindhi'), ('/content/grive/MyDrive/Cow breed project/CowsFinal-20221101T103947Z-001/CowsFinal/Red Sindhi/_0_7104.jpg', 'Red Sindhi'), ('/content/grive/MyDrive/Cow breed project/CowsFinal-20221101T103947Z-001/CowsFinal/Red Sindhi/_0_790.jpg', 'Red Sindhi'), ('/content/grive/MyDrive/Cow breed project/CowsFinal-20221101T103947Z-001/CowsFinal/Sahiwal/_0_3964.jpg', 'Sahiwal'), ('/content/grive/MyDrive/Cow breed project/CowsFinal-20221101T103947Z-001/CowsFinal/Sahiwal/_0_3442.jpg', 'Sahiwal'), ('/content/grive/MyDrive/Cow breed project/CowsFinal-20221101T103947Z-001/CowsFinal/Sahiwal/_0_8687.jpg', 'Sahiwal')] \n",
            "\n"
          ]
        }
      ],
      "source": [
        "import random\n",
        "combined=list(zip(X,y))\n",
        "print(combined[:10],\"\\n\")\n",
        "random.shuffle(combined)\n",
        "print(combined[:10],\"\\n\")\n",
        "X[:],y[:]=zip(*combined)"
      ]
    },
    {
      "cell_type": "code",
      "execution_count": 6,
      "metadata": {
        "colab": {
          "base_uri": "https://localhost:8080/"
        },
        "id": "Oe9QSvJU1m84",
        "outputId": "f256e564-43b7-42e3-f5c9-db4de9ae7135"
      },
      "outputs": [
        {
          "output_type": "stream",
          "name": "stdout",
          "text": [
            "(3220, 4)\n"
          ]
        }
      ],
      "source": [
        "from sklearn.preprocessing import LabelEncoder\n",
        "from keras.utils import to_categorical\n",
        "\n",
        "le=LabelEncoder()\n",
        "le.fit(y)\n",
        "y_ohe=to_categorical(le.transform(y),len(breeds))\n",
        "print(y_ohe.shape)\n",
        "y_ohe=np.array(y_ohe)"
      ]
    },
    {
      "cell_type": "code",
      "execution_count": 7,
      "metadata": {
        "id": "k5jN3o-T1tMw"
      },
      "outputs": [],
      "source": [
        "import pickle\n",
        "testing_model=pickle.load(open('/content/grive/MyDrive/MajorProject-20221201T083132Z-001/MajorProject/CBC_7','rb'))"
      ]
    },
    {
      "cell_type": "code",
      "execution_count": 8,
      "metadata": {
        "colab": {
          "base_uri": "https://localhost:8080/"
        },
        "id": "YtZtKZGj2J37",
        "outputId": "107a98f3-969d-46ee-9c54-2ea4d50a6865"
      },
      "outputs": [
        {
          "output_type": "stream",
          "name": "stdout",
          "text": [
            "1/1 [==============================] - 2s 2s/step\n",
            "SAHIWAL\n"
          ]
        }
      ],
      "source": [
        "import os\n",
        "import pickle\n",
        "import cv2\n",
        "import numpy as np\n",
        "from tensorflow.keras.utils import img_to_array,load_img\n",
        "\n",
        "#load model\n",
        "#testing_model=pickle.load(open('/content/CBC_7','rb'))\n",
        "\n",
        "def predict_image():\n",
        "    img_data=np.array([img_to_array(load_img('/content/grive/MyDrive/MajorProject-20221201T083132Z-001/MajorProject/media/38-Red Sindhi.jpg', target_size = (299,299,3)))])\n",
        "    x_test1 = img_data / 255\n",
        "    test_predictions = testing_model.predict(x_test1)\n",
        "    predictions = le.classes_[np.argmax(test_predictions,axis=1)]\n",
        "\n",
        "    name=predictions[0].upper().replace(\"_\",\" \")\n",
        "    return name\n",
        "\n",
        "print(predict_image())"
      ]
    },
    {
      "cell_type": "code",
      "execution_count": 9,
      "metadata": {
        "colab": {
          "base_uri": "https://localhost:8080/"
        },
        "id": "lz3vH1b5Kqyz",
        "outputId": "24d076b5-01cf-4e2b-9ba3-f801754eeff8"
      },
      "outputs": [
        {
          "output_type": "stream",
          "name": "stdout",
          "text": [
            "Looking in indexes: https://pypi.org/simple, https://us-python.pkg.dev/colab-wheels/public/simple/\n",
            "Collecting django\n",
            "  Downloading Django-4.1.4-py3-none-any.whl (8.1 MB)\n",
            "\u001b[K     |████████████████████████████████| 8.1 MB 4.1 MB/s \n",
            "\u001b[?25hCollecting backports.zoneinfo\n",
            "  Downloading backports.zoneinfo-0.2.1-cp38-cp38-manylinux1_x86_64.whl (74 kB)\n",
            "\u001b[K     |████████████████████████████████| 74 kB 2.8 MB/s \n",
            "\u001b[?25hRequirement already satisfied: sqlparse>=0.2.2 in /usr/local/lib/python3.8/dist-packages (from django) (0.4.3)\n",
            "Collecting asgiref<4,>=3.5.2\n",
            "  Downloading asgiref-3.5.2-py3-none-any.whl (22 kB)\n",
            "Installing collected packages: backports.zoneinfo, asgiref, django\n",
            "Successfully installed asgiref-3.5.2 backports.zoneinfo-0.2.1 django-4.1.4\n"
          ]
        }
      ],
      "source": [
        "!pip install django"
      ]
    },
    {
      "cell_type": "code",
      "execution_count": 10,
      "metadata": {
        "colab": {
          "base_uri": "https://localhost:8080/"
        },
        "id": "vNaErfwKK4ga",
        "outputId": "159b3d75-0394-461f-9510-7c3f7e931a8d"
      },
      "outputs": [
        {
          "output_type": "stream",
          "name": "stdout",
          "text": [
            "/content/grive/MyDrive/MajorProject-20221201T083132Z-001/MajorProject\n"
          ]
        }
      ],
      "source": [
        "%cd /content/grive/MyDrive/MajorProject-20221201T083132Z-001/MajorProject/\n"
      ]
    },
    {
      "cell_type": "markdown",
      "metadata": {
        "id": "MNpF4ZXzLVT1"
      },
      "source": [
        "!ls"
      ]
    },
    {
      "cell_type": "code",
      "execution_count": 11,
      "metadata": {
        "colab": {
          "base_uri": "https://localhost:8080/"
        },
        "id": "feOLZRhXLhXM",
        "outputId": "c14a9535-8520-41df-a85a-d191a1b059b9"
      },
      "outputs": [
        {
          "output_type": "stream",
          "name": "stdout",
          "text": [
            "BreedClassifier  db.sqlite3    manage.py  staticFiles\n",
            "CBC_7\t\t MajorProject  media\t  templates\n"
          ]
        }
      ],
      "source": [
        "!ls"
      ]
    },
    {
      "cell_type": "code",
      "execution_count": 12,
      "metadata": {
        "colab": {
          "base_uri": "https://localhost:8080/",
          "height": 34
        },
        "id": "OGwUVooANB6d",
        "outputId": "4c306e81-34a7-4a6e-ee1f-3c50ce8a2c57"
      },
      "outputs": [
        {
          "output_type": "stream",
          "name": "stdout",
          "text": [
            "https://0hc0jesaqh44-496ff2e9c6d22116-8000-colab.googleusercontent.com/\n"
          ]
        }
      ],
      "source": [
        "from google.colab.output import eval_js\n",
        "print(eval_js(\"google.colab.kernel.proxyPort(8000)\"))\n"
      ]
    },
    {
      "cell_type": "code",
      "execution_count": null,
      "metadata": {
        "colab": {
          "background_save": true,
          "base_uri": "https://localhost:8080/"
        },
        "id": "8QgInY0KNvzG",
        "outputId": "c4cd854f-8d16-4630-e0b0-6d6f321ff747"
      },
      "outputs": [
        {
          "output_type": "stream",
          "name": "stdout",
          "text": [
            "Watching for file changes with StatReloader\n",
            "Performing system checks...\n",
            "\n",
            "(3220, 4)\n",
            "2022-12-15 15:43:13.394293: E tensorflow/stream_executor/cuda/cuda_driver.cc:271] failed call to cuInit: CUDA_ERROR_NO_DEVICE: no CUDA-capable device is detected\n",
            "System check identified no issues (0 silenced).\n",
            "\u001b[31m\n",
            "You have 18 unapplied migration(s). Your project may not work properly until you apply the migrations for app(s): admin, auth, contenttypes, sessions.\u001b[0m\n",
            "\u001b[31mRun 'python manage.py migrate' to apply them.\u001b[0m\n",
            "December 15, 2022 - 15:43:30\n",
            "Django version 4.1.4, using settings 'MajorProject.settings'\n",
            "Starting development server at http://127.0.0.1:8000/\n",
            "Quit the server with CONTROL-C.\n",
            "[15/Dec/2022 15:44:22] \u001b[m\"GET / HTTP/1.1\" 200 3072\u001b[0m\n",
            "[15/Dec/2022 15:44:24] \u001b[m\"GET /static/main.css HTTP/1.1\" 200 6232\u001b[0m\n",
            "[15/Dec/2022 15:44:24] \u001b[m\"GET /static/main.js HTTP/1.1\" 200 117\u001b[0m\n",
            "[15/Dec/2022 15:44:24] \u001b[m\"GET /static/red%20sindhi.jpg HTTP/1.1\" 200 29605\u001b[0m\n",
            "[15/Dec/2022 15:44:24] \u001b[m\"GET /static/rathi.jpg HTTP/1.1\" 200 117808\u001b[0m\n",
            "[15/Dec/2022 15:44:24] \u001b[m\"GET /static/gir.jpg HTTP/1.1\" 200 59642\u001b[0m\n",
            "[15/Dec/2022 15:44:24] \u001b[m\"GET /static/sahiwal.jpg HTTP/1.1\" 200 28338\u001b[0m\n",
            "Not Found: /favicon.ico\n",
            "WARNING:django.request:Not Found: /favicon.ico\n",
            "[15/Dec/2022 15:44:27] \u001b[33m\"GET /favicon.ico HTTP/1.1\" 404 2637\u001b[0m\n",
            "Not Found: /favicon.ico\n",
            "WARNING:django.request:Not Found: /favicon.ico\n",
            "[15/Dec/2022 15:44:30] \u001b[33m\"GET /favicon.ico HTTP/1.1\" 404 2637\u001b[0m\n",
            "1/1 [==============================] - 3s 3s/step\n",
            "RATHI\n",
            "[15/Dec/2022 15:45:04] \u001b[m\"POST /upload/ HTTP/1.1\" 200 1935\u001b[0m\n",
            "[15/Dec/2022 15:45:05] \u001b[m\"GET /static/detail.css HTTP/1.1\" 200 1314\u001b[0m\n",
            "[15/Dec/2022 15:45:05] \u001b[m\"GET /static/rathi.jpg HTTP/1.1\" 200 117808\u001b[0m\n",
            "Not Found: /favicon.ico\n",
            "WARNING:django.request:Not Found: /favicon.ico\n",
            "[15/Dec/2022 15:45:07] \u001b[33m\"GET /favicon.ico HTTP/1.1\" 404 2637\u001b[0m\n"
          ]
        }
      ],
      "source": [
        "!python manage.py runserver\n"
      ]
    },
    {
      "cell_type": "code",
      "execution_count": null,
      "metadata": {
        "id": "tBEzZi9rPUXI"
      },
      "outputs": [],
      "source": [
        "!django-admin startapp BreedClassifier\n"
      ]
    },
    {
      "cell_type": "code",
      "execution_count": null,
      "metadata": {
        "colab": {
          "base_uri": "https://localhost:8080/"
        },
        "id": "JKmZPoYrTL3r",
        "outputId": "b1eccb1a-ab60-4f05-d8f2-a34b5e27dc25"
      },
      "outputs": [
        {
          "name": "stdout",
          "output_type": "stream",
          "text": [
            "Watching for file changes with StatReloader\n",
            "Performing system checks...\n",
            "\n",
            "(4545, 4)\n",
            "2022-11-02 18:38:38.702067: E tensorflow/stream_executor/cuda/cuda_driver.cc:271] failed call to cuInit: CUDA_ERROR_NO_DEVICE: no CUDA-capable device is detected\n",
            "System check identified no issues (0 silenced).\n",
            "\u001b[31m\n",
            "You have 18 unapplied migration(s). Your project may not work properly until you apply the migrations for app(s): admin, auth, contenttypes, sessions.\u001b[0m\n",
            "\u001b[31mRun 'python manage.py migrate' to apply them.\u001b[0m\n",
            "November 02, 2022 - 18:38:59\n",
            "Django version 3.2.16, using settings 'MajorProject.settings'\n",
            "Starting development server at http://127.0.0.1:8000/\n",
            "Quit the server with CONTROL-C.\n",
            "[02/Nov/2022 18:39:56] \u001b[m\"GET / HTTP/1.1\" 200 3136\u001b[0m\n",
            "[02/Nov/2022 18:39:57] \u001b[m\"GET /static/main.css HTTP/1.1\" 200 6151\u001b[0m\n",
            "[02/Nov/2022 18:39:57] \u001b[m\"GET /static/rathi.jpg HTTP/1.1\" 200 117808\u001b[0m\n",
            "[02/Nov/2022 18:39:57] \u001b[m\"GET /static/main.js HTTP/1.1\" 200 117\u001b[0m\n",
            "[02/Nov/2022 18:39:57] \u001b[m\"GET /static/red%20sindhi.jpg HTTP/1.1\" 200 29605\u001b[0m\n",
            "[02/Nov/2022 18:39:57] \u001b[m\"GET /static/gir.jpg HTTP/1.1\" 200 59642\u001b[0m\n",
            "[02/Nov/2022 18:39:57] \u001b[m\"GET /static/sahiwal.jpg HTTP/1.1\" 200 28338\u001b[0m\n",
            "Not Found: /favicon.ico\n",
            "WARNING:django.request:Not Found: /favicon.ico\n",
            "[02/Nov/2022 18:39:58] \u001b[33m\"GET /favicon.ico HTTP/1.1\" 404 2637\u001b[0m\n",
            "Not Found: /favicon.ico\n",
            "WARNING:django.request:Not Found: /favicon.ico\n",
            "[02/Nov/2022 18:40:00] \u001b[33m\"GET /favicon.ico HTTP/1.1\" 404 2637\u001b[0m\n",
            "1/1 [==============================] - 3s 3s/step\n",
            "RATHI\n",
            "[02/Nov/2022 18:40:20] \u001b[m\"POST /upload/ HTTP/1.1\" 200 1935\u001b[0m\n",
            "[02/Nov/2022 18:40:20] \u001b[m\"GET /static/detail.css HTTP/1.1\" 200 1314\u001b[0m\n",
            "[02/Nov/2022 18:40:21] \u001b[m\"GET /static/rathi.jpg HTTP/1.1\" 200 117808\u001b[0m\n",
            "Not Found: /favicon.ico\n",
            "WARNING:django.request:Not Found: /favicon.ico\n",
            "[02/Nov/2022 18:40:22] \u001b[33m\"GET /favicon.ico HTTP/1.1\" 404 2637\u001b[0m\n",
            "[02/Nov/2022 18:40:31] \u001b[m\"GET / HTTP/1.1\" 200 3136\u001b[0m\n",
            "[02/Nov/2022 18:40:31] \u001b[m\"GET /static/main.css HTTP/1.1\" 200 6151\u001b[0m\n",
            "[02/Nov/2022 18:40:32] \u001b[m\"GET /static/gir.jpg HTTP/1.1\" 200 59642\u001b[0m\n",
            "[02/Nov/2022 18:40:32] \u001b[m\"GET /static/red%20sindhi.jpg HTTP/1.1\" 200 29605\u001b[0m\n",
            "[02/Nov/2022 18:40:32] \u001b[m\"GET /static/sahiwal.jpg HTTP/1.1\" 200 28338\u001b[0m\n",
            "[02/Nov/2022 18:40:32] \u001b[m\"GET /static/main.js HTTP/1.1\" 200 117\u001b[0m\n",
            "Not Found: /favicon.ico\n",
            "WARNING:django.request:Not Found: /favicon.ico\n",
            "[02/Nov/2022 18:40:33] \u001b[33m\"GET /favicon.ico HTTP/1.1\" 404 2637\u001b[0m\n",
            "1/1 [==============================] - 0s 284ms/step\n",
            "SAHIWAL\n",
            "[02/Nov/2022 18:40:43] \u001b[m\"POST /upload/ HTTP/1.1\" 200 1581\u001b[0m\n",
            "[02/Nov/2022 18:40:44] \u001b[m\"GET /static/detail.css HTTP/1.1\" 200 1314\u001b[0m\n",
            "[02/Nov/2022 18:40:44] \u001b[m\"GET /static/sahiwal.jpg HTTP/1.1\" 200 28338\u001b[0m\n",
            "Not Found: /favicon.ico\n",
            "WARNING:django.request:Not Found: /favicon.ico\n",
            "[02/Nov/2022 18:40:45] \u001b[33m\"GET /favicon.ico HTTP/1.1\" 404 2637\u001b[0m\n",
            "[02/Nov/2022 18:40:48] \u001b[m\"GET / HTTP/1.1\" 200 3136\u001b[0m\n",
            "[02/Nov/2022 18:40:49] \u001b[m\"GET /static/main.js HTTP/1.1\" 200 117\u001b[0m\n",
            "[02/Nov/2022 18:40:49] \u001b[m\"GET /static/main.css HTTP/1.1\" 200 6151\u001b[0m\n",
            "Not Found: /favicon.ico\n",
            "WARNING:django.request:Not Found: /favicon.ico\n",
            "[02/Nov/2022 18:40:50] \u001b[33m\"GET /favicon.ico HTTP/1.1\" 404 2637\u001b[0m\n",
            "1/1 [==============================] - 0s 280ms/step\n",
            "RATHI\n",
            "[02/Nov/2022 18:40:59] \u001b[m\"POST /upload/ HTTP/1.1\" 200 1935\u001b[0m\n",
            "[02/Nov/2022 18:41:00] \u001b[m\"GET /static/detail.css HTTP/1.1\" 200 1314\u001b[0m\n",
            "[02/Nov/2022 18:41:00] \u001b[m\"GET /static/rathi.jpg HTTP/1.1\" 200 117808\u001b[0m\n",
            "Not Found: /favicon.ico\n",
            "WARNING:django.request:Not Found: /favicon.ico\n",
            "[02/Nov/2022 18:41:02] \u001b[33m\"GET /favicon.ico HTTP/1.1\" 404 2637\u001b[0m\n",
            "[02/Nov/2022 18:42:10] \u001b[m\"GET / HTTP/1.1\" 200 3136\u001b[0m\n",
            "[02/Nov/2022 18:42:10] \u001b[m\"GET /static/main.css HTTP/1.1\" 200 6151\u001b[0m\n",
            "[02/Nov/2022 18:42:11] \u001b[m\"GET /static/main.js HTTP/1.1\" 200 117\u001b[0m\n",
            "[02/Nov/2022 18:42:11] \u001b[m\"GET /static/sahiwal.jpg HTTP/1.1\" 200 28338\u001b[0m\n",
            "[02/Nov/2022 18:42:11] \u001b[m\"GET /static/red%20sindhi.jpg HTTP/1.1\" 200 29605\u001b[0m\n",
            "[02/Nov/2022 18:42:11] \u001b[m\"GET /static/gir.jpg HTTP/1.1\" 200 59642\u001b[0m\n",
            "Not Found: /favicon.ico\n",
            "WARNING:django.request:Not Found: /favicon.ico\n",
            "[02/Nov/2022 18:42:12] \u001b[33m\"GET /favicon.ico HTTP/1.1\" 404 2637\u001b[0m\n",
            "1/1 [==============================] - 0s 320ms/step\n",
            "RATHI\n",
            "[02/Nov/2022 18:42:22] \u001b[m\"POST /upload/ HTTP/1.1\" 200 1935\u001b[0m\n",
            "[02/Nov/2022 18:42:22] \u001b[m\"GET /static/detail.css HTTP/1.1\" 200 1314\u001b[0m\n",
            "[02/Nov/2022 18:42:24] \u001b[m\"GET /static/rathi.jpg HTTP/1.1\" 200 117808\u001b[0m\n",
            "Not Found: /favicon.ico\n",
            "WARNING:django.request:Not Found: /favicon.ico\n",
            "[02/Nov/2022 18:42:26] \u001b[33m\"GET /favicon.ico HTTP/1.1\" 404 2637\u001b[0m\n",
            "[02/Nov/2022 18:42:29] \u001b[m\"GET / HTTP/1.1\" 200 3136\u001b[0m\n",
            "[02/Nov/2022 18:42:30] \u001b[m\"GET /static/main.css HTTP/1.1\" 200 6151\u001b[0m\n",
            "[02/Nov/2022 18:42:31] \u001b[m\"GET /static/main.js HTTP/1.1\" 200 117\u001b[0m\n",
            "Not Found: /favicon.ico\n",
            "WARNING:django.request:Not Found: /favicon.ico\n",
            "[02/Nov/2022 18:42:33] \u001b[33m\"GET /favicon.ico HTTP/1.1\" 404 2637\u001b[0m\n",
            "1/1 [==============================] - 0s 307ms/step\n",
            "SAHIWAL\n",
            "[02/Nov/2022 18:42:40] \u001b[m\"POST /upload/ HTTP/1.1\" 200 1581\u001b[0m\n",
            "[02/Nov/2022 18:42:42] \u001b[m\"GET /static/sahiwal.jpg HTTP/1.1\" 200 28338\u001b[0m\n",
            "[02/Nov/2022 18:42:42] \u001b[m\"GET /static/detail.css HTTP/1.1\" 200 1314\u001b[0m\n",
            "Not Found: /favicon.ico\n",
            "WARNING:django.request:Not Found: /favicon.ico\n",
            "[02/Nov/2022 18:42:44] \u001b[33m\"GET /favicon.ico HTTP/1.1\" 404 2637\u001b[0m\n",
            "[02/Nov/2022 18:42:46] \u001b[m\"GET / HTTP/1.1\" 200 3136\u001b[0m\n",
            "[02/Nov/2022 18:42:49] \u001b[m\"GET /static/main.css HTTP/1.1\" 200 6151\u001b[0m\n",
            "[02/Nov/2022 18:42:49] \u001b[m\"GET /static/main.js HTTP/1.1\" 200 117\u001b[0m\n",
            "Not Found: /favicon.ico\n",
            "WARNING:django.request:Not Found: /favicon.ico\n",
            "[02/Nov/2022 18:42:49] \u001b[33m\"GET /favicon.ico HTTP/1.1\" 404 2637\u001b[0m\n",
            "Not Found: /favicon.ico\n",
            "WARNING:django.request:Not Found: /favicon.ico\n",
            "[02/Nov/2022 18:42:55] \u001b[33m\"GET /favicon.ico HTTP/1.1\" 404 2637\u001b[0m\n",
            "Not Found: /favicon.ico\n",
            "WARNING:django.request:Not Found: /favicon.ico\n",
            "[02/Nov/2022 18:42:59] \u001b[33m\"GET /favicon.ico HTTP/1.1\" 404 2637\u001b[0m\n"
          ]
        }
      ],
      "source": [
        "!python manage.py runserver\n"
      ]
    }
  ],
  "metadata": {
    "colab": {
      "provenance": [],
      "toc_visible": true,
      "include_colab_link": true
    },
    "kernelspec": {
      "display_name": "Python 3",
      "name": "python3"
    },
    "language_info": {
      "name": "python"
    }
  },
  "nbformat": 4,
  "nbformat_minor": 0
}